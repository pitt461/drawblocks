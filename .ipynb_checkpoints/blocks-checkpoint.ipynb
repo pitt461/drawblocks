{
 "cells": [
  {
   "cell_type": "code",
   "execution_count": 186,
   "metadata": {},
   "outputs": [],
   "source": [
    "import pickle\n",
    "import numpy as np\n",
    "import gmplot # you need to install this from the above link\n",
    "import webbrowser\n",
    "import os\n",
    "import matplotlib.pyplot as plt\n",
    "import pandas as pd\n",
    "import matplotlib.cm as cm\n",
    "import matplotlib.colors as colors\n",
    "import matplotlib as mpl\n",
    "import six\n",
    "import xlrd\n",
    "from pathlib import Path\n",
    "import csv"
   ]
  },
  {
   "cell_type": "code",
   "execution_count": 187,
   "metadata": {},
   "outputs": [],
   "source": [
    "fbase='.'\n",
    "floc='.' #/Users/ratlifflj/Dropbox/stPCA/src/data'\n",
    "floc2=fbase+'/figs/'\n",
    "\n",
    "#xl  = pd.ExcelFile(fbase+'/data/ps_pay_stn_blkface.xlsx')\n",
    "#dfsup = xl.parse('Sheet 1')\n",
    "xl  = pd.ExcelFile(fbase+'/data/crossreferencesheet.xlsx')\n",
    "dfcf = xl.parse('PS 4.22.15')\n",
    "elkeys=dfcf['ELMNTKEY']"
   ]
  },
  {
   "cell_type": "code",
   "execution_count": null,
   "metadata": {},
   "outputs": [],
   "source": []
  },
  {
   "cell_type": "code",
   "execution_count": 188,
   "metadata": {},
   "outputs": [],
   "source": [
    "locs=pickle.load(open(fbase+'/data/bloclocs.p','rb')) # load location data\n",
    "\n",
    "\n",
    "#get unique paid areas\n",
    "paidareas=dfcf['PAIDAREA'].unique()\n",
    "# get coordinates for each of those sub areas\n",
    "sub={}\n",
    "#locs=pickle.load(open('./data/blockfacelocs.p','rb')) # load location data\n",
    "for pa in paidareas:\n",
    "    mask=(dfcf['PAIDAREA']==pa)\n",
    "    dftemp=dfcf[mask]\n",
    "    elkey0=dftemp['ELMNTKEY']\n",
    "    sub[str(pa)]={}\n",
    "    for key in elkey0.values.tolist():\n",
    "        if key in locs.keys():\n",
    "            sub[str(pa)][key]=locs[key]"
   ]
  },
  {
   "cell_type": "code",
   "execution_count": 189,
   "metadata": {},
   "outputs": [],
   "source": [
    "           \n",
    "'''\n",
    "    Draw all blocks\n",
    "'''\n",
    "def drawAllBlocks(locsvals, st='map'):\n",
    "    '''\n",
    "        input:\n",
    "            locsvals=np.asarray(locs.values())\n",
    "            st = 'mapname'\n",
    "    '''\n",
    "    gmap=gmplot.GoogleMapPlotter(47.6097,-122.3331,13) # this centers the map in seattle\n",
    "    #OUR CODE\n",
    "    #XXXXXXXXXXXXXXXXXXXXXXXXXXX\n",
    "    clusterlocs=np.asarray(locsvals)\n",
    "    for b in range(np.size(clusterlocs,0)):\n",
    "        gmap.polygon([clusterlocs[b,1],clusterlocs[b,3]],[clusterlocs[b,0],\n",
    "                   clusterlocs[b,2]],color='r',edge_width=3)\n",
    "\n",
    "    fi=st+\".html\"\n",
    "    gmap.draw(floc2+fi)\n",
    "#plt.show()\n",
    "\n",
    "'''\n",
    "    Draw subareas\n",
    "'''\n",
    "\n",
    "gmap2=gmplot.GoogleMapPlotter(47.6097,-122.3331,13) \n",
    "def drawBlock(bloc, st='mapblock', color = 'red', cind=0, newmap=True):\n",
    "    c=list(six.iteritems(colors.cnames))\n",
    "    #print(c)\n",
    "    i=0\n",
    "    fi=st+\".html\"\n",
    "    #fi='map-bell-img-ex.html'\n",
    "    for b in range(np.size(bloc,0)):\n",
    "        gmap2.polygon([bloc[b][1],bloc[b][4]],\n",
    "                      [bloc[b][0], bloc[b][3]],\n",
    "                      color,edge_width=3)\n",
    "        #print(c[b][0])\n",
    "    #i=i+1\n",
    "   \n",
    "    #gmap2.draw(floc2+fi)\n",
    "\n",
    "def drawBlocks(blocs, st='mapblock', cind=0, newmap=True):\n",
    "    gmap2=gmplot.GoogleMapPlotter(47.6097,-122.3331,13) \n",
    "    c=list(six.iteritems(colors.cnames))\n",
    "    i=0\n",
    "    fi=st+\".html\"\n",
    "    for bloc in blocs.values():\n",
    "      for b in range(np.size(bloc,0)):\n",
    "        gmap2.polygon([bloc[b][1],bloc[b][4]],\n",
    "                      [bloc[b][0], bloc[b][3]],\n",
    "                      color=c[b][0],edge_width=20)\n",
    "        print(c[b][0])\n",
    "    gmap2.draw(floc2+fi)\n",
    "\n",
    "#def drawSubAreas(paidareas, st='mapsub'):\n",
    "#    gmap2=gmplot.GoogleMapPlotter(47.6097,-122.3331,13)\n",
    "#    c=list(six.iteritems(colors.cnames))\n",
    "#    i=0\n",
    "#    fi=st+\".html\"\n",
    "#    for pa, cl in zip(paidareas,c):\n",
    "#        clusterlocs[str(pa)]=np.asarray(sub[str(pa)].values())\n",
    "#        for b in range(np.size(clusterlocs[str(pa)],0)):\n",
    "#            gmap2.polygon([clusterlocs[str(pa)][b,1],clusterlocs[str(pa)][b,3]],\n",
    "#                         [clusterlocs[str(pa)][b,0],clusterlocs[str(pa)][b,2]],\n",
    "#                         color=cl[0],edge_width=3)\n",
    "#        i=i+1\n",
    "#    gmap2.draw(floc2+fi)\n",
    "\n"
   ]
  },
  {
   "cell_type": "code",
   "execution_count": 193,
   "metadata": {},
   "outputs": [],
   "source": [
    "def getColor (occData):\n",
    "    occData = float(occData)\n",
    "    if occData <= 0.34:\n",
    "        return 'green'\n",
    "    elif occData > 0.34 and occData <= 0.68:\n",
    "        return 'yellow'\n",
    "    elif occData > 0.68 and occData <= 1:\n",
    "        return 'red'\n",
    "    elif occData > 1:\n",
    "        return 'black'"
   ]
  },
  {
   "cell_type": "code",
   "execution_count": 194,
   "metadata": {},
   "outputs": [],
   "source": [
    "greens = {}\n",
    "yellows = {}\n",
    "reds= {}\n",
    "blacks = {}\n",
    "for b in parkingDataDict.keys():\n",
    "    if getColor(parkingDataDict[b][1]) == 'green':\n",
    "        greens[b] = locs[b]\n",
    "    elif getColor(parkingDataDict[b][1]) == 'yellow':\n",
    "        yellows[b] = locs[b]\n",
    "    elif getColor(parkingDataDict[b][1]) == 'red':\n",
    "        reds[b] = locs[b]\n",
    "    else:\n",
    "        blacks[b] = locs[b]\n",
    "        \n",
    "green = list(greens.values())\n",
    "yellow = list(yellows.values())\n",
    "red = list(reds.values())\n",
    "black = list(blacks.values())\n",
    "\n",
    "drawBlock(green, st='map-bell-img-ex', color = 'green')\n",
    "drawBlock(yellow, st='map-bell-img-ex', color = 'yellow')\n",
    "drawBlock(red, st='map-bell-img-ex', color = 'red')\n",
    "drawBlock(black, st='map-bell-img-ex', color = 'black')"
   ]
  },
  {
   "cell_type": "code",
   "execution_count": 192,
   "metadata": {},
   "outputs": [],
   "source": [
    "parkingDataDict={}\n",
    "norm = mpl.colors.Normalize(vmin = 0.0,vmax = 2.0)\n",
    "for blocface in datablocs.keys():\n",
    "    with open(\"C:/Users/STARS/Desktop/drawblocks/drawblocks/data/BelltownData/\" + str(blocface) + \".csv\") as csv_file:\n",
    "        csv_reader = csv.reader(csv_file, delimiter=',')\n",
    "        line_count = 0\n",
    "        for row in csv_reader:\n",
    "            if line_count >= 12 and line_count <= 23 :\n",
    "                #FIX SO THAT IS HOLDS MULTIPLE DATA POINT IN ARRRAY\n",
    "                num = row[1]\n",
    "                if num != \"\" :\n",
    "                    parkingDataDict[blocface] = [row[0], num]\n",
    "                    #print(norm(float(num)))\n",
    "                #print(f'Column names are {\", \".join(row)}')\n",
    "                #line_count += 1\n",
    "            #else:\n",
    "             #   print(f'\\t{row[0]} works in the {row[1]} department')\n",
    "              #  line_count += 1\n",
    "            line_count += 1"
   ]
  },
  {
   "cell_type": "code",
   "execution_count": 195,
   "metadata": {},
   "outputs": [
    {
     "data": {
      "text/plain": [
       "True"
      ]
     },
     "execution_count": 195,
     "metadata": {},
     "output_type": "execute_result"
    }
   ],
   "source": [
    "\n",
    "\n",
    "bell=locs\n",
    "blst=[9354, 9353] \n",
    "blocs={}\n",
    "datablocs={}\n",
    "\n",
    "#for b in locs.keys():\n",
    " # my_file = Path(\"C:/Users/STARS/Desktop/drawblocks/drawblocks/data/BelltownData/\" + str(b) + \".csv\")\n",
    "  #print(\"./data/BelltownData/\" + str(b))\n",
    "  #if my_file.exists():\n",
    "  #    datablocs[b] = bell[b]\n",
    " # else:\n",
    " #     blocs[b] = bell[b]\n",
    "\n",
    "#bloc=list(blocs.values())\n",
    "#databloc=list(datablocs.values())\n",
    "#drawBlock(bloc, st='map-bell-img-ex')\n",
    "#drawBlock(databloc, st='map-bell-img-ex', color = 'green')\n",
    "gmap2.draw(floc2 + 'map-bell-img-ex.html')\n",
    "#drawBlock(databloc, st='map-bell-img-ex')\n",
    "filename = 'file:///'+os.getcwd()+'/figs/' + 'map-bell-img-ex.html'\n",
    "webbrowser.open(filename)"
   ]
  },
  {
   "cell_type": "code",
   "execution_count": 191,
   "metadata": {},
   "outputs": [],
   "source": [
    "pickle_out = open(\"parking_data_belltown_blockface,lat,long.p\",\"wb\")\n",
    "pickle.dump(datablocs, pickle_out)\n",
    "pickle_out.close()"
   ]
  },
  {
   "cell_type": "code",
   "execution_count": null,
   "metadata": {},
   "outputs": [],
   "source": []
  }
 ],
 "metadata": {
  "kernelspec": {
   "display_name": "Python 3",
   "language": "python",
   "name": "python3"
  },
  "language_info": {
   "codemirror_mode": {
    "name": "ipython",
    "version": 3
   },
   "file_extension": ".py",
   "mimetype": "text/x-python",
   "name": "python",
   "nbconvert_exporter": "python",
   "pygments_lexer": "ipython3",
   "version": "3.6.5"
  }
 },
 "nbformat": 4,
 "nbformat_minor": 2
}
